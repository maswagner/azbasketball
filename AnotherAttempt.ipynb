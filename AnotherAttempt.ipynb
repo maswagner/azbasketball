{
 "cells": [
  {
   "cell_type": "markdown",
   "metadata": {},
   "source": [
    "# Importing the necessary packages and dataset"
   ]
  },
  {
   "cell_type": "code",
   "execution_count": 76,
   "metadata": {},
   "outputs": [],
   "source": [
    "import pandas as pd\n",
    "import matplotlib.pyplot as plt\n",
    "import numpy as np\n",
    "from sklearn.model_selection import train_test_split\n",
    "from sklearn.linear_model import LogisticRegression"
   ]
  },
  {
   "cell_type": "markdown",
   "metadata": {},
   "source": [
    "Importing the HolyCollegeBasketball csv file"
   ]
  },
  {
   "cell_type": "code",
   "execution_count": 11,
   "metadata": {},
   "outputs": [],
   "source": [
    "games = pd.read_csv('HolyCollegeBasketball.csv')"
   ]
  },
  {
   "cell_type": "markdown",
   "metadata": {},
   "source": [
    "Editing a column name to match the rest"
   ]
  },
  {
   "cell_type": "code",
   "execution_count": 12,
   "metadata": {},
   "outputs": [
    {
     "data": {
      "text/html": [
       "<div>\n",
       "<style scoped>\n",
       "    .dataframe tbody tr th:only-of-type {\n",
       "        vertical-align: middle;\n",
       "    }\n",
       "\n",
       "    .dataframe tbody tr th {\n",
       "        vertical-align: top;\n",
       "    }\n",
       "\n",
       "    .dataframe thead th {\n",
       "        text-align: right;\n",
       "    }\n",
       "</style>\n",
       "<table border=\"1\" class=\"dataframe\">\n",
       "  <thead>\n",
       "    <tr style=\"text-align: right;\">\n",
       "      <th></th>\n",
       "      <th>YEAR</th>\n",
       "      <th>TEAM</th>\n",
       "      <th>DATE</th>\n",
       "      <th>LOCATION</th>\n",
       "      <th>OPPONENT</th>\n",
       "      <th>RESULT</th>\n",
       "      <th>TEAMSCORE</th>\n",
       "      <th>OPPSCORE</th>\n",
       "      <th>RECORD</th>\n",
       "      <th>WAB</th>\n",
       "      <th>...</th>\n",
       "      <th>REC1YRAGOW</th>\n",
       "      <th>REC1YRAGOL</th>\n",
       "      <th>REC2YRAGOW</th>\n",
       "      <th>REC2YRAGOL</th>\n",
       "      <th>REC3YRAGOW</th>\n",
       "      <th>REC3YRAGOL</th>\n",
       "      <th>REC4YRAGOW</th>\n",
       "      <th>REC4YRAGOL</th>\n",
       "      <th>REC5YRAGOW</th>\n",
       "      <th>REC5YRAGOL</th>\n",
       "    </tr>\n",
       "  </thead>\n",
       "  <tbody>\n",
       "    <tr>\n",
       "      <th>0</th>\n",
       "      <td>2018</td>\n",
       "      <td>Arizona</td>\n",
       "      <td>Fri 11-10</td>\n",
       "      <td>H</td>\n",
       "      <td>Northern Arizona</td>\n",
       "      <td>W</td>\n",
       "      <td>101</td>\n",
       "      <td>67</td>\n",
       "      <td>1-0</td>\n",
       "      <td>0.0</td>\n",
       "      <td>...</td>\n",
       "      <td>32</td>\n",
       "      <td>5</td>\n",
       "      <td>25</td>\n",
       "      <td>9</td>\n",
       "      <td>34</td>\n",
       "      <td>4</td>\n",
       "      <td>33</td>\n",
       "      <td>5</td>\n",
       "      <td>27</td>\n",
       "      <td>8</td>\n",
       "    </tr>\n",
       "    <tr>\n",
       "      <th>1</th>\n",
       "      <td>2018</td>\n",
       "      <td>Arizona</td>\n",
       "      <td>Sun 11-12</td>\n",
       "      <td>H</td>\n",
       "      <td>UMBC</td>\n",
       "      <td>W</td>\n",
       "      <td>103</td>\n",
       "      <td>78</td>\n",
       "      <td>2-0</td>\n",
       "      <td>0.1</td>\n",
       "      <td>...</td>\n",
       "      <td>32</td>\n",
       "      <td>5</td>\n",
       "      <td>25</td>\n",
       "      <td>9</td>\n",
       "      <td>34</td>\n",
       "      <td>4</td>\n",
       "      <td>33</td>\n",
       "      <td>5</td>\n",
       "      <td>27</td>\n",
       "      <td>8</td>\n",
       "    </tr>\n",
       "    <tr>\n",
       "      <th>2</th>\n",
       "      <td>2018</td>\n",
       "      <td>Arizona</td>\n",
       "      <td>Thu 11-16</td>\n",
       "      <td>H</td>\n",
       "      <td>Cal St. Bakersfield</td>\n",
       "      <td>W</td>\n",
       "      <td>91</td>\n",
       "      <td>59</td>\n",
       "      <td>3-0</td>\n",
       "      <td>0.2</td>\n",
       "      <td>...</td>\n",
       "      <td>32</td>\n",
       "      <td>5</td>\n",
       "      <td>25</td>\n",
       "      <td>9</td>\n",
       "      <td>34</td>\n",
       "      <td>4</td>\n",
       "      <td>33</td>\n",
       "      <td>5</td>\n",
       "      <td>27</td>\n",
       "      <td>8</td>\n",
       "    </tr>\n",
       "    <tr>\n",
       "      <th>3</th>\n",
       "      <td>2018</td>\n",
       "      <td>Arizona</td>\n",
       "      <td>Wed 11-22</td>\n",
       "      <td>N</td>\n",
       "      <td>North Carolina St.</td>\n",
       "      <td>L</td>\n",
       "      <td>84</td>\n",
       "      <td>90</td>\n",
       "      <td>3-1</td>\n",
       "      <td>-0.4</td>\n",
       "      <td>...</td>\n",
       "      <td>32</td>\n",
       "      <td>5</td>\n",
       "      <td>25</td>\n",
       "      <td>9</td>\n",
       "      <td>34</td>\n",
       "      <td>4</td>\n",
       "      <td>33</td>\n",
       "      <td>5</td>\n",
       "      <td>27</td>\n",
       "      <td>8</td>\n",
       "    </tr>\n",
       "    <tr>\n",
       "      <th>4</th>\n",
       "      <td>2018</td>\n",
       "      <td>Arizona</td>\n",
       "      <td>Thu 11-23</td>\n",
       "      <td>N</td>\n",
       "      <td>SMU</td>\n",
       "      <td>L</td>\n",
       "      <td>60</td>\n",
       "      <td>66</td>\n",
       "      <td>3-2</td>\n",
       "      <td>-1.1</td>\n",
       "      <td>...</td>\n",
       "      <td>32</td>\n",
       "      <td>5</td>\n",
       "      <td>25</td>\n",
       "      <td>9</td>\n",
       "      <td>34</td>\n",
       "      <td>4</td>\n",
       "      <td>33</td>\n",
       "      <td>5</td>\n",
       "      <td>27</td>\n",
       "      <td>8</td>\n",
       "    </tr>\n",
       "  </tbody>\n",
       "</table>\n",
       "<p>5 rows × 32 columns</p>\n",
       "</div>"
      ],
      "text/plain": [
       "   YEAR     TEAM       DATE LOCATION             OPPONENT RESULT  TEAMSCORE  \\\n",
       "0  2018  Arizona  Fri 11-10        H     Northern Arizona      W        101   \n",
       "1  2018  Arizona  Sun 11-12        H                 UMBC      W        103   \n",
       "2  2018  Arizona  Thu 11-16        H  Cal St. Bakersfield      W         91   \n",
       "3  2018  Arizona  Wed 11-22        N   North Carolina St.      L         84   \n",
       "4  2018  Arizona  Thu 11-23        N                  SMU      L         60   \n",
       "\n",
       "   OPPSCORE RECORD  WAB  ... REC1YRAGOW REC1YRAGOL  REC2YRAGOW  REC2YRAGOL  \\\n",
       "0        67    1-0  0.0  ...         32          5          25           9   \n",
       "1        78    2-0  0.1  ...         32          5          25           9   \n",
       "2        59    3-0  0.2  ...         32          5          25           9   \n",
       "3        90    3-1 -0.4  ...         32          5          25           9   \n",
       "4        66    3-2 -1.1  ...         32          5          25           9   \n",
       "\n",
       "   REC3YRAGOW  REC3YRAGOL  REC4YRAGOW  REC4YRAGOL  REC5YRAGOW  REC5YRAGOL  \n",
       "0          34           4          33           5          27           8  \n",
       "1          34           4          33           5          27           8  \n",
       "2          34           4          33           5          27           8  \n",
       "3          34           4          33           5          27           8  \n",
       "4          34           4          33           5          27           8  \n",
       "\n",
       "[5 rows x 32 columns]"
      ]
     },
     "execution_count": 12,
     "metadata": {},
     "output_type": "execute_result"
    }
   ],
   "source": [
    "games.rename(columns = {'Team':'TEAM'}, inplace = True)\n",
    "games.head()"
   ]
  },
  {
   "cell_type": "markdown",
   "metadata": {},
   "source": [
    "Creating dummy variables for a win or a loss"
   ]
  },
  {
   "cell_type": "code",
   "execution_count": 215,
   "metadata": {},
   "outputs": [
    {
     "name": "stdout",
     "output_type": "stream",
     "text": [
      "<class 'pandas.core.frame.DataFrame'>\n",
      "RangeIndex: 1920 entries, 0 to 1919\n",
      "Data columns (total 33 columns):\n",
      " #   Column      Non-Null Count  Dtype  \n",
      "---  ------      --------------  -----  \n",
      " 0   YEAR        1920 non-null   int64  \n",
      " 1   TEAM        1920 non-null   object \n",
      " 2   DATE        1920 non-null   object \n",
      " 3   LOCATION    1920 non-null   object \n",
      " 4   OPPONENT    1920 non-null   object \n",
      " 5   TEAMSCORE   1920 non-null   int64  \n",
      " 6   OPPSCORE    1920 non-null   int64  \n",
      " 7   RECORD      1920 non-null   object \n",
      " 8   WAB         1920 non-null   float64\n",
      " 9   ADJO        1920 non-null   object \n",
      " 10  ADJD        1920 non-null   object \n",
      " 11  OPPP        1920 non-null   float64\n",
      " 12  OEFG%       1920 non-null   float64\n",
      " 13  OTO%        1920 non-null   float64\n",
      " 14  OOR%        1920 non-null   float64\n",
      " 15  OFTR        1920 non-null   float64\n",
      " 16  DPPP        1920 non-null   float64\n",
      " 17  DEFG%       1920 non-null   float64\n",
      " 18  DTO%        1920 non-null   float64\n",
      " 19  DOR%        1920 non-null   float64\n",
      " 20  DFTR        1920 non-null   float64\n",
      " 21  REC1YRAGOW  1920 non-null   float64\n",
      " 22  REC1YRAGOL  1920 non-null   float64\n",
      " 23  REC2YRAGOW  1920 non-null   float64\n",
      " 24  REC2YRAGOL  1920 non-null   float64\n",
      " 25  REC3YRAGOW  1920 non-null   float64\n",
      " 26  REC3YRAGOL  1920 non-null   float64\n",
      " 27  REC4YRAGOW  1920 non-null   float64\n",
      " 28  REC4YRAGOL  1920 non-null   float64\n",
      " 29  REC5YRAGOW  1920 non-null   float64\n",
      " 30  REC5YRAGOL  1920 non-null   float64\n",
      " 31  RESULT_L    1920 non-null   uint8  \n",
      " 32  RESULT_W    1920 non-null   uint8  \n",
      "dtypes: float64(21), int64(3), object(7), uint8(2)\n",
      "memory usage: 468.9+ KB\n"
     ]
    }
   ],
   "source": [
    "gamedum = pd.get_dummies(data=games, columns=['RESULT'])\n",
    "gamedum[['REC1YRAGOW', 'REC1YRAGOL', \n",
    "             'REC2YRAGOW', 'REC2YRAGOL', \n",
    "             'REC3YRAGOW', 'REC3YRAGOL', \n",
    "             'REC4YRAGOW', 'REC4YRAGOL', \n",
    "             'REC5YRAGOW', 'REC5YRAGOL']] = gamedum[['REC1YRAGOW', 'REC1YRAGOL', \n",
    "             'REC2YRAGOW', 'REC2YRAGOL', \n",
    "             'REC3YRAGOW', 'REC3YRAGOL', \n",
    "             'REC4YRAGOW', 'REC4YRAGOL', \n",
    "             'REC5YRAGOW', 'REC5YRAGOL']].astype(float)\n",
    "gamedum.info()"
   ]
  },
  {
   "cell_type": "markdown",
   "metadata": {},
   "source": [
    "# Model below shows the chances of a PAC-12 team winning a game"
   ]
  },
  {
   "cell_type": "markdown",
   "metadata": {},
   "source": [
    "This is based only on the teams records over the last 5 years."
   ]
  },
  {
   "cell_type": "code",
   "execution_count": 210,
   "metadata": {},
   "outputs": [
    {
     "data": {
      "image/png": "[encoded data removed]",
      "text/plain": [
       "<Figure size 432x288 with 1 Axes>"
      ]
     },
     "metadata": {
      "needs_background": "light"
     },
     "output_type": "display_data"
    }
   ],
   "source": [
    "from sklearn import metrics\n",
    "\n",
    "y = gamedum['RESULT_W']\n",
    "X = gamedum[['REC1YRAGOW', 'REC1YRAGOL', \n",
    "             'REC2YRAGOW', 'REC2YRAGOL', \n",
    "             'REC3YRAGOW', 'REC3YRAGOL', \n",
    "             'REC4YRAGOW', 'REC4YRAGOL', \n",
    "             'REC5YRAGOW', 'REC5YRAGOL']]\n",
    "\n",
    "X_train, X_test, y_train, y_test = train_test_split(X, y, train_size=0.7, test_size=0.3, random_state = 10)\n",
    "\n",
    "logreg = LogisticRegression()\n",
    "\n",
    "logreg.fit(X_train, y_train)\n",
    "y_pred = logreg.predict_proba(X_test)[::,1]\n",
    "\n",
    "fpr, tpr, thresholds = metrics.roc_curve(y_test, y_pred)\n",
    "auc = metrics.roc_auc_score(y_test, y_pred)\n",
    "\n",
    "plt.plot(fpr,tpr, label='AUC='+str(auc))\n",
    "plt.title('Chance of PAC-12 team Winning a Game')\n",
    "plt.xlabel('False Positive Rate')\n",
    "plt.ylabel('True Positive Rate')\n",
    "plt.legend()\n",
    "plt.show()"
   ]
  },
  {
   "cell_type": "code",
   "execution_count": 257,
   "metadata": {},
   "outputs": [
    {
     "data": {
      "image/png": "[encoded data removed]",
      "text/plain": [
       "<Figure size 432x288 with 1 Axes>"
      ]
     },
     "metadata": {
      "needs_background": "light"
     },
     "output_type": "display_data"
    }
   ],
   "source": [
    "def holypoop(team1, team2):\n",
    "    home = pd.DataFrame(data=gamedum[gamedum['TEAM']==team1])\n",
    "    matchup = home[home['OPPONENT'] == team2]\n",
    "    \n",
    "    y1 = matchup['RESULT_W']\n",
    "    X1 = matchup[['OFTR', 'OTO%','DTO%', 'OEFG%', 'DEFG%', 'REC1YRAGOW', 'REC1YRAGOL', \n",
    "                 'REC2YRAGOW', 'REC2YRAGOL', \n",
    "                 'REC3YRAGOW', 'REC3YRAGOL', \n",
    "                 'REC4YRAGOW', 'REC4YRAGOL', \n",
    "                 'REC5YRAGOW', 'REC5YRAGOL']]\n",
    "\n",
    "    X1_train, X1_test, y1_train, y1_test = train_test_split(X1, y1, train_size=0.6, test_size=0.4, random_state = 10)\n",
    "\n",
    "    logreg1 = LogisticRegression()\n",
    "\n",
    "    logreg1.fit(X1_train, y1_train)\n",
    "    y1_pred = logreg1.predict_proba(X1_test)[::,1]\n",
    "\n",
    "    fpr1, tpr1, thresholds1 = metrics.roc_curve(y1_test, y1_pred)\n",
    "    auc1 = metrics.roc_auc_score(y1_test, y1_pred)\n",
    "    \n",
    "    plt.plot(fpr1,tpr1, label='AUC='+str(auc1))\n",
    "    plt.title('Probability of {} Winning'.format(team1))\n",
    "    plt.legend()\n",
    "    plt.show()\n",
    "    \n",
    "choice1 = 'Arizona' #input('Pick one PAC-12 team: ')\n",
    "choice2 = 'Arizona St.' #input('Pick another PAC-12 team: ')\n",
    "\n",
    "holypoop(choice1, choice2)\n",
    "\n"
   ]
  },
  {
   "cell_type": "code",
   "execution_count": null,
   "metadata": {},
   "outputs": [],
   "source": []
  }
 ],
 "metadata": {
  "kernelspec": {
   "display_name": "Python 3",
   "language": "python",
   "name": "python3"
  },
  "language_info": {
   "codemirror_mode": {
    "name": "ipython",
    "version": 3
   },
   "file_extension": ".py",
   "mimetype": "text/x-python",
   "name": "python",
   "nbconvert_exporter": "python",
   "pygments_lexer": "ipython3",
   "version": "3.8.5"
  }
 },
 "nbformat": 4,
 "nbformat_minor": 4
}
